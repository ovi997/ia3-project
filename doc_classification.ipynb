{
 "cells": [
  {
   "cell_type": "code",
   "execution_count": null,
   "metadata": {
    "colab": {
     "base_uri": "https://localhost:8080/"
    },
    "id": "72JowdZTL7KG",
    "outputId": "1b5eac07-a759-43a7-fedb-78b167dcf0db"
   },
   "outputs": [
    {
     "name": "stdout",
     "output_type": "stream",
     "text": [
      "Mounted at /content/drive\n"
     ]
    }
   ],
   "source": [
    "from google.colab import drive\n",
    "drive.mount('/content/drive')"
   ]
  },
  {
   "cell_type": "code",
   "execution_count": null,
   "metadata": {
    "colab": {
     "base_uri": "https://localhost:8080/"
    },
    "id": "cy-UBu6kL9HX",
    "outputId": "1c57a4bf-c052-4b50-872b-461733dbced4"
   },
   "outputs": [
    {
     "name": "stdout",
     "output_type": "stream",
     "text": [
      "/content/drive/My Drive/trellis-doc-classification/doc-classification\n"
     ]
    }
   ],
   "source": [
    "%cd \"/content/drive/My Drive/doc-classification\""
   ]
  },
  {
   "cell_type": "code",
   "execution_count": null,
   "metadata": {
    "colab": {
     "base_uri": "https://localhost:8080/"
    },
    "id": "DQtYgc3NMRYO",
    "outputId": "cad6aa44-f483-480a-cfbb-a9525d743c25"
   },
   "outputs": [
    {
     "name": "stdout",
     "output_type": "stream",
     "text": [
      "Collecting numpy==1.26.0 (from -r /content/drive/My Drive/trellis-doc-classification/doc-classification/requirements.txt (line 1))\n",
      "  Downloading numpy-1.26.0-cp310-cp310-manylinux_2_17_x86_64.manylinux2014_x86_64.whl (18.2 MB)\n",
      "\u001b[2K     \u001b[90m━━━━━━━━━━━━━━━━━━━━━━━━━━━━━━━━━━━━━━━━\u001b[0m \u001b[32m18.2/18.2 MB\u001b[0m \u001b[31m81.6 MB/s\u001b[0m eta \u001b[36m0:00:00\u001b[0m\n",
      "\u001b[?25hCollecting torch==2.1.2 (from -r /content/drive/My Drive/trellis-doc-classification/doc-classification/requirements.txt (line 2))\n",
      "  Downloading torch-2.1.2-cp310-cp310-manylinux1_x86_64.whl (670.2 MB)\n",
      "\u001b[2K     \u001b[90m━━━━━━━━━━━━━━━━━━━━━━━━━━━━━━━━━━━━━━━━\u001b[0m \u001b[32m670.2/670.2 MB\u001b[0m \u001b[31m2.5 MB/s\u001b[0m eta \u001b[36m0:00:00\u001b[0m\n",
      "\u001b[?25hRequirement already satisfied: tokenizers==0.19.1 in /usr/local/lib/python3.10/dist-packages (from -r /content/drive/My Drive/trellis-doc-classification/doc-classification/requirements.txt (line 3)) (0.19.1)\n",
      "Collecting transformers==4.40.0 (from -r /content/drive/My Drive/trellis-doc-classification/doc-classification/requirements.txt (line 4))\n",
      "  Downloading transformers-4.40.0-py3-none-any.whl (9.0 MB)\n",
      "\u001b[2K     \u001b[90m━━━━━━━━━━━━━━━━━━━━━━━━━━━━━━━━━━━━━━━━\u001b[0m \u001b[32m9.0/9.0 MB\u001b[0m \u001b[31m104.5 MB/s\u001b[0m eta \u001b[36m0:00:00\u001b[0m\n",
      "\u001b[?25hCollecting tqdm==4.66.1 (from -r /content/drive/My Drive/trellis-doc-classification/doc-classification/requirements.txt (line 5))\n",
      "  Downloading tqdm-4.66.1-py3-none-any.whl (78 kB)\n",
      "\u001b[2K     \u001b[90m━━━━━━━━━━━━━━━━━━━━━━━━━━━━━━━━━━━━━━━━\u001b[0m \u001b[32m78.3/78.3 kB\u001b[0m \u001b[31m14.7 MB/s\u001b[0m eta \u001b[36m0:00:00\u001b[0m\n",
      "\u001b[?25hRequirement already satisfied: pandas in /usr/local/lib/python3.10/dist-packages (from -r /content/drive/My Drive/trellis-doc-classification/doc-classification/requirements.txt (line 6)) (2.0.3)\n",
      "Requirement already satisfied: filelock in /usr/local/lib/python3.10/dist-packages (from torch==2.1.2->-r /content/drive/My Drive/trellis-doc-classification/doc-classification/requirements.txt (line 2)) (3.14.0)\n",
      "Requirement already satisfied: typing-extensions in /usr/local/lib/python3.10/dist-packages (from torch==2.1.2->-r /content/drive/My Drive/trellis-doc-classification/doc-classification/requirements.txt (line 2)) (4.12.2)\n",
      "Requirement already satisfied: sympy in /usr/local/lib/python3.10/dist-packages (from torch==2.1.2->-r /content/drive/My Drive/trellis-doc-classification/doc-classification/requirements.txt (line 2)) (1.12.1)\n",
      "Requirement already satisfied: networkx in /usr/local/lib/python3.10/dist-packages (from torch==2.1.2->-r /content/drive/My Drive/trellis-doc-classification/doc-classification/requirements.txt (line 2)) (3.3)\n",
      "Requirement already satisfied: jinja2 in /usr/local/lib/python3.10/dist-packages (from torch==2.1.2->-r /content/drive/My Drive/trellis-doc-classification/doc-classification/requirements.txt (line 2)) (3.1.4)\n",
      "Requirement already satisfied: fsspec in /usr/local/lib/python3.10/dist-packages (from torch==2.1.2->-r /content/drive/My Drive/trellis-doc-classification/doc-classification/requirements.txt (line 2)) (2023.6.0)\n",
      "Collecting nvidia-cuda-nvrtc-cu12==12.1.105 (from torch==2.1.2->-r /content/drive/My Drive/trellis-doc-classification/doc-classification/requirements.txt (line 2))\n",
      "  Using cached nvidia_cuda_nvrtc_cu12-12.1.105-py3-none-manylinux1_x86_64.whl (23.7 MB)\n",
      "Collecting nvidia-cuda-runtime-cu12==12.1.105 (from torch==2.1.2->-r /content/drive/My Drive/trellis-doc-classification/doc-classification/requirements.txt (line 2))\n",
      "  Using cached nvidia_cuda_runtime_cu12-12.1.105-py3-none-manylinux1_x86_64.whl (823 kB)\n",
      "Collecting nvidia-cuda-cupti-cu12==12.1.105 (from torch==2.1.2->-r /content/drive/My Drive/trellis-doc-classification/doc-classification/requirements.txt (line 2))\n",
      "  Using cached nvidia_cuda_cupti_cu12-12.1.105-py3-none-manylinux1_x86_64.whl (14.1 MB)\n",
      "Collecting nvidia-cudnn-cu12==8.9.2.26 (from torch==2.1.2->-r /content/drive/My Drive/trellis-doc-classification/doc-classification/requirements.txt (line 2))\n",
      "  Using cached nvidia_cudnn_cu12-8.9.2.26-py3-none-manylinux1_x86_64.whl (731.7 MB)\n",
      "Collecting nvidia-cublas-cu12==12.1.3.1 (from torch==2.1.2->-r /content/drive/My Drive/trellis-doc-classification/doc-classification/requirements.txt (line 2))\n",
      "  Using cached nvidia_cublas_cu12-12.1.3.1-py3-none-manylinux1_x86_64.whl (410.6 MB)\n",
      "Collecting nvidia-cufft-cu12==11.0.2.54 (from torch==2.1.2->-r /content/drive/My Drive/trellis-doc-classification/doc-classification/requirements.txt (line 2))\n",
      "  Using cached nvidia_cufft_cu12-11.0.2.54-py3-none-manylinux1_x86_64.whl (121.6 MB)\n",
      "Collecting nvidia-curand-cu12==10.3.2.106 (from torch==2.1.2->-r /content/drive/My Drive/trellis-doc-classification/doc-classification/requirements.txt (line 2))\n",
      "  Using cached nvidia_curand_cu12-10.3.2.106-py3-none-manylinux1_x86_64.whl (56.5 MB)\n",
      "Collecting nvidia-cusolver-cu12==11.4.5.107 (from torch==2.1.2->-r /content/drive/My Drive/trellis-doc-classification/doc-classification/requirements.txt (line 2))\n",
      "  Using cached nvidia_cusolver_cu12-11.4.5.107-py3-none-manylinux1_x86_64.whl (124.2 MB)\n",
      "Collecting nvidia-cusparse-cu12==12.1.0.106 (from torch==2.1.2->-r /content/drive/My Drive/trellis-doc-classification/doc-classification/requirements.txt (line 2))\n",
      "  Using cached nvidia_cusparse_cu12-12.1.0.106-py3-none-manylinux1_x86_64.whl (196.0 MB)\n",
      "Collecting nvidia-nccl-cu12==2.18.1 (from torch==2.1.2->-r /content/drive/My Drive/trellis-doc-classification/doc-classification/requirements.txt (line 2))\n",
      "  Downloading nvidia_nccl_cu12-2.18.1-py3-none-manylinux1_x86_64.whl (209.8 MB)\n",
      "\u001b[2K     \u001b[90m━━━━━━━━━━━━━━━━━━━━━━━━━━━━━━━━━━━━━━━━\u001b[0m \u001b[32m209.8/209.8 MB\u001b[0m \u001b[31m4.0 MB/s\u001b[0m eta \u001b[36m0:00:00\u001b[0m\n",
      "\u001b[?25hCollecting nvidia-nvtx-cu12==12.1.105 (from torch==2.1.2->-r /content/drive/My Drive/trellis-doc-classification/doc-classification/requirements.txt (line 2))\n",
      "  Using cached nvidia_nvtx_cu12-12.1.105-py3-none-manylinux1_x86_64.whl (99 kB)\n",
      "Collecting triton==2.1.0 (from torch==2.1.2->-r /content/drive/My Drive/trellis-doc-classification/doc-classification/requirements.txt (line 2))\n",
      "  Downloading triton-2.1.0-0-cp310-cp310-manylinux2014_x86_64.manylinux_2_17_x86_64.whl (89.2 MB)\n",
      "\u001b[2K     \u001b[90m━━━━━━━━━━━━━━━━━━━━━━━━━━━━━━━━━━━━━━━━\u001b[0m \u001b[32m89.2/89.2 MB\u001b[0m \u001b[31m19.2 MB/s\u001b[0m eta \u001b[36m0:00:00\u001b[0m\n",
      "\u001b[?25hRequirement already satisfied: huggingface-hub<1.0,>=0.16.4 in /usr/local/lib/python3.10/dist-packages (from tokenizers==0.19.1->-r /content/drive/My Drive/trellis-doc-classification/doc-classification/requirements.txt (line 3)) (0.23.3)\n",
      "Requirement already satisfied: packaging>=20.0 in /usr/local/lib/python3.10/dist-packages (from transformers==4.40.0->-r /content/drive/My Drive/trellis-doc-classification/doc-classification/requirements.txt (line 4)) (24.1)\n",
      "Requirement already satisfied: pyyaml>=5.1 in /usr/local/lib/python3.10/dist-packages (from transformers==4.40.0->-r /content/drive/My Drive/trellis-doc-classification/doc-classification/requirements.txt (line 4)) (6.0.1)\n",
      "Requirement already satisfied: regex!=2019.12.17 in /usr/local/lib/python3.10/dist-packages (from transformers==4.40.0->-r /content/drive/My Drive/trellis-doc-classification/doc-classification/requirements.txt (line 4)) (2024.5.15)\n",
      "Requirement already satisfied: requests in /usr/local/lib/python3.10/dist-packages (from transformers==4.40.0->-r /content/drive/My Drive/trellis-doc-classification/doc-classification/requirements.txt (line 4)) (2.31.0)\n",
      "Requirement already satisfied: safetensors>=0.4.1 in /usr/local/lib/python3.10/dist-packages (from transformers==4.40.0->-r /content/drive/My Drive/trellis-doc-classification/doc-classification/requirements.txt (line 4)) (0.4.3)\n",
      "Collecting nvidia-nvjitlink-cu12 (from nvidia-cusolver-cu12==11.4.5.107->torch==2.1.2->-r /content/drive/My Drive/trellis-doc-classification/doc-classification/requirements.txt (line 2))\n",
      "  Downloading nvidia_nvjitlink_cu12-12.5.40-py3-none-manylinux2014_x86_64.whl (21.3 MB)\n",
      "\u001b[2K     \u001b[90m━━━━━━━━━━━━━━━━━━━━━━━━━━━━━━━━━━━━━━━━\u001b[0m \u001b[32m21.3/21.3 MB\u001b[0m \u001b[31m74.3 MB/s\u001b[0m eta \u001b[36m0:00:00\u001b[0m\n",
      "\u001b[?25hRequirement already satisfied: python-dateutil>=2.8.2 in /usr/local/lib/python3.10/dist-packages (from pandas->-r /content/drive/My Drive/trellis-doc-classification/doc-classification/requirements.txt (line 6)) (2.8.2)\n",
      "Requirement already satisfied: pytz>=2020.1 in /usr/local/lib/python3.10/dist-packages (from pandas->-r /content/drive/My Drive/trellis-doc-classification/doc-classification/requirements.txt (line 6)) (2023.4)\n",
      "Requirement already satisfied: tzdata>=2022.1 in /usr/local/lib/python3.10/dist-packages (from pandas->-r /content/drive/My Drive/trellis-doc-classification/doc-classification/requirements.txt (line 6)) (2024.1)\n",
      "Requirement already satisfied: six>=1.5 in /usr/local/lib/python3.10/dist-packages (from python-dateutil>=2.8.2->pandas->-r /content/drive/My Drive/trellis-doc-classification/doc-classification/requirements.txt (line 6)) (1.16.0)\n",
      "Requirement already satisfied: MarkupSafe>=2.0 in /usr/local/lib/python3.10/dist-packages (from jinja2->torch==2.1.2->-r /content/drive/My Drive/trellis-doc-classification/doc-classification/requirements.txt (line 2)) (2.1.5)\n",
      "Requirement already satisfied: charset-normalizer<4,>=2 in /usr/local/lib/python3.10/dist-packages (from requests->transformers==4.40.0->-r /content/drive/My Drive/trellis-doc-classification/doc-classification/requirements.txt (line 4)) (3.3.2)\n",
      "Requirement already satisfied: idna<4,>=2.5 in /usr/local/lib/python3.10/dist-packages (from requests->transformers==4.40.0->-r /content/drive/My Drive/trellis-doc-classification/doc-classification/requirements.txt (line 4)) (3.7)\n",
      "Requirement already satisfied: urllib3<3,>=1.21.1 in /usr/local/lib/python3.10/dist-packages (from requests->transformers==4.40.0->-r /content/drive/My Drive/trellis-doc-classification/doc-classification/requirements.txt (line 4)) (2.0.7)\n",
      "Requirement already satisfied: certifi>=2017.4.17 in /usr/local/lib/python3.10/dist-packages (from requests->transformers==4.40.0->-r /content/drive/My Drive/trellis-doc-classification/doc-classification/requirements.txt (line 4)) (2024.6.2)\n",
      "Requirement already satisfied: mpmath<1.4.0,>=1.1.0 in /usr/local/lib/python3.10/dist-packages (from sympy->torch==2.1.2->-r /content/drive/My Drive/trellis-doc-classification/doc-classification/requirements.txt (line 2)) (1.3.0)\n",
      "Installing collected packages: triton, tqdm, nvidia-nvtx-cu12, nvidia-nvjitlink-cu12, nvidia-nccl-cu12, nvidia-curand-cu12, nvidia-cufft-cu12, nvidia-cuda-runtime-cu12, nvidia-cuda-nvrtc-cu12, nvidia-cuda-cupti-cu12, nvidia-cublas-cu12, numpy, nvidia-cusparse-cu12, nvidia-cudnn-cu12, nvidia-cusolver-cu12, transformers, torch\n",
      "  Attempting uninstall: triton\n",
      "    Found existing installation: triton 2.3.0\n",
      "    Uninstalling triton-2.3.0:\n",
      "      Successfully uninstalled triton-2.3.0\n",
      "  Attempting uninstall: tqdm\n",
      "    Found existing installation: tqdm 4.66.4\n",
      "    Uninstalling tqdm-4.66.4:\n",
      "      Successfully uninstalled tqdm-4.66.4\n",
      "  Attempting uninstall: numpy\n",
      "    Found existing installation: numpy 1.25.2\n",
      "    Uninstalling numpy-1.25.2:\n",
      "      Successfully uninstalled numpy-1.25.2\n",
      "  Attempting uninstall: transformers\n",
      "    Found existing installation: transformers 4.41.2\n",
      "    Uninstalling transformers-4.41.2:\n",
      "      Successfully uninstalled transformers-4.41.2\n",
      "  Attempting uninstall: torch\n",
      "    Found existing installation: torch 2.3.0+cu121\n",
      "    Uninstalling torch-2.3.0+cu121:\n",
      "      Successfully uninstalled torch-2.3.0+cu121\n",
      "\u001b[31mERROR: pip's dependency resolver does not currently take into account all the packages that are installed. This behaviour is the source of the following dependency conflicts.\n",
      "torchaudio 2.3.0+cu121 requires torch==2.3.0, but you have torch 2.1.2 which is incompatible.\n",
      "torchtext 0.18.0 requires torch>=2.3.0, but you have torch 2.1.2 which is incompatible.\n",
      "torchvision 0.18.0+cu121 requires torch==2.3.0, but you have torch 2.1.2 which is incompatible.\u001b[0m\u001b[31m\n",
      "\u001b[0mSuccessfully installed numpy-1.26.0 nvidia-cublas-cu12-12.1.3.1 nvidia-cuda-cupti-cu12-12.1.105 nvidia-cuda-nvrtc-cu12-12.1.105 nvidia-cuda-runtime-cu12-12.1.105 nvidia-cudnn-cu12-8.9.2.26 nvidia-cufft-cu12-11.0.2.54 nvidia-curand-cu12-10.3.2.106 nvidia-cusolver-cu12-11.4.5.107 nvidia-cusparse-cu12-12.1.0.106 nvidia-nccl-cu12-2.18.1 nvidia-nvjitlink-cu12-12.5.40 nvidia-nvtx-cu12-12.1.105 torch-2.1.2 tqdm-4.66.1 transformers-4.40.0 triton-2.1.0\n"
     ]
    }
   ],
   "source": [
    "!pip install -r \"requirements.txt\""
   ]
  },
  {
   "cell_type": "code",
   "execution_count": null,
   "metadata": {
    "colab": {
     "background_save": true,
     "base_uri": "https://localhost:8080/"
    },
    "id": "Y6bJizEENqd8",
    "outputId": "e5b998bb-867d-4a27-e5e5-7323afc6a842"
   },
   "outputs": [
    {
     "name": "stdout",
     "output_type": "stream",
     "text": [
      "/usr/local/lib/python3.10/dist-packages/huggingface_hub/file_download.py:1132: FutureWarning: `resume_download` is deprecated and will be removed in version 1.0.0. Downloads always resume when possible. If you want to force a new download, use `force_download=True`.\n",
      "  warnings.warn(\n",
      "/usr/local/lib/python3.10/dist-packages/huggingface_hub/file_download.py:1132: FutureWarning: `resume_download` is deprecated and will be removed in version 1.0.0. Downloads always resume when possible. If you want to force a new download, use `force_download=True`.\n",
      "  warnings.warn(\n",
      "Some weights of BertForSequenceClassification were not initialized from the model checkpoint at bert-base-uncased and are newly initialized: ['classifier.bias', 'classifier.weight']\n",
      "You should probably TRAIN this model on a down-stream task to be able to use it for predictions and inference.\n",
      "Training model\n",
      "Training Epoch 1: 100% 44/44 [00:35<00:00,  1.24it/s]\n",
      "Evaluating: 100% 5/5 [00:02<00:00,  1.80it/s]\n",
      "Training Loss: 2.2751\n",
      "Validation Loss: 2.0616\n",
      "Training Epoch 2: 100% 44/44 [00:36<00:00,  1.22it/s]\n",
      "Evaluating: 100% 5/5 [00:02<00:00,  1.78it/s]\n",
      "Training Loss: 1.9344\n",
      "Validation Loss: 1.7666\n",
      "Training Epoch 3: 100% 44/44 [00:35<00:00,  1.23it/s]\n",
      "Evaluating: 100% 5/5 [00:02<00:00,  1.80it/s]\n",
      "Training Loss: 1.6911\n",
      "Validation Loss: 1.5872\n",
      "Training Epoch 4: 100% 44/44 [00:35<00:00,  1.23it/s]\n",
      "Evaluating: 100% 5/5 [00:02<00:00,  1.78it/s]\n",
      "Training Loss: 1.5600\n",
      "Validation Loss: 1.5178\n",
      "Training Epoch 5: 100% 44/44 [00:35<00:00,  1.22it/s]\n",
      "Evaluating: 100% 5/5 [00:02<00:00,  1.78it/s]\n",
      "Training Loss: 1.5240\n",
      "Validation Loss: 1.5074\n",
      "Evaluating model on test set\n",
      "Test Accuracy: 0.9139\n"
     ]
    }
   ],
   "source": [
    "!python \"test_models.py\""
   ]
  },
  {
   "cell_type": "code",
   "execution_count": null,
   "metadata": {
    "colab": {
     "background_save": true
    },
    "id": "_hwJJED7PgX8",
    "outputId": "c34163cd-70e4-4ca1-88f6-19ff1b154881"
   },
   "outputs": [
    {
     "name": "stdout",
     "output_type": "stream",
     "text": [
      "/usr/local/lib/python3.10/dist-packages/huggingface_hub/file_download.py:1132: FutureWarning: `resume_download` is deprecated and will be removed in version 1.0.0. Downloads always resume when possible. If you want to force a new download, use `force_download=True`.\n",
      "  warnings.warn(\n",
      "/usr/local/lib/python3.10/dist-packages/huggingface_hub/file_download.py:1132: FutureWarning: `resume_download` is deprecated and will be removed in version 1.0.0. Downloads always resume when possible. If you want to force a new download, use `force_download=True`.\n",
      "  warnings.warn(\n",
      "Some weights of BertForSequenceClassification were not initialized from the model checkpoint at bert-base-uncased and are newly initialized: ['classifier.bias', 'classifier.weight']\n",
      "You should probably TRAIN this model on a down-stream task to be able to use it for predictions and inference.\n",
      "Training model\n",
      "Training Epoch 1: 100% 54/54 [00:41<00:00,  1.30it/s]\n",
      "Evaluating: 100% 3/3 [00:01<00:00,  2.46it/s]\n",
      "Training Loss: 2.1535\n",
      "Validation Loss: 1.9360\n",
      "Training Epoch 2: 100% 54/54 [00:41<00:00,  1.30it/s]\n",
      "Evaluating: 100% 3/3 [00:01<00:00,  2.41it/s]\n",
      "Training Loss: 1.6916\n",
      "Validation Loss: 1.5048\n",
      "Training Epoch 3: 100% 54/54 [00:42<00:00,  1.28it/s]\n",
      "Evaluating: 100% 3/3 [00:01<00:00,  2.36it/s]\n",
      "Training Loss: 1.3158\n",
      "Validation Loss: 1.1853\n",
      "Training Epoch 4: 100% 54/54 [00:42<00:00,  1.27it/s]\n",
      "Evaluating: 100% 3/3 [00:01<00:00,  2.30it/s]\n",
      "Training Loss: 1.0384\n",
      "Validation Loss: 0.9554\n",
      "Training Epoch 5: 100% 54/54 [00:43<00:00,  1.24it/s]\n",
      "Evaluating: 100% 3/3 [00:01<00:00,  2.19it/s]\n",
      "Training Loss: 0.8204\n",
      "Validation Loss: 0.7764\n",
      "Training Epoch 6: 100% 54/54 [00:44<00:00,  1.22it/s]\n",
      "Evaluating: 100% 3/3 [00:01<00:00,  2.23it/s]\n",
      "Training Loss: 0.6640\n",
      "Validation Loss: 0.6593\n",
      "Training Epoch 7: 100% 54/54 [00:43<00:00,  1.24it/s]\n",
      "Evaluating: 100% 3/3 [00:01<00:00,  2.26it/s]\n",
      "Training Loss: 0.5473\n",
      "Validation Loss: 0.5699\n",
      "Training Epoch 8: 100% 54/54 [00:43<00:00,  1.23it/s]\n",
      "Evaluating: 100% 3/3 [00:01<00:00,  2.26it/s]\n",
      "Training Loss: 0.4708\n",
      "Validation Loss: 0.5109\n",
      "Training Epoch 9: 100% 54/54 [00:43<00:00,  1.24it/s]\n",
      "Evaluating: 100% 3/3 [00:01<00:00,  2.27it/s]\n",
      "Training Loss: 0.4159\n",
      "Validation Loss: 0.4677\n",
      "Training Epoch 10: 100% 54/54 [00:43<00:00,  1.23it/s]\n",
      "Evaluating: 100% 3/3 [00:01<00:00,  2.25it/s]\n",
      "Training Loss: 0.3754\n",
      "Validation Loss: 0.4360\n",
      "Training Epoch 11: 100% 54/54 [00:43<00:00,  1.24it/s]\n",
      "Evaluating: 100% 3/3 [00:01<00:00,  2.25it/s]\n",
      "Training Loss: 0.3495\n",
      "Validation Loss: 0.4173\n",
      "Training Epoch 12: 100% 54/54 [00:43<00:00,  1.23it/s]\n",
      "Evaluating: 100% 3/3 [00:01<00:00,  2.25it/s]\n",
      "Training Loss: 0.3346\n",
      "Validation Loss: 0.4065\n",
      "Training Epoch 13: 100% 54/54 [00:43<00:00,  1.23it/s]\n",
      "Evaluating: 100% 3/3 [00:01<00:00,  2.24it/s]\n",
      "Training Loss: 0.3252\n",
      "Validation Loss: 0.4012\n",
      "Training Epoch 14: 100% 54/54 [00:43<00:00,  1.23it/s]\n",
      "Evaluating: 100% 3/3 [00:01<00:00,  2.25it/s]\n",
      "Training Loss: 0.3199\n",
      "Validation Loss: 0.3985\n",
      "Training Epoch 15: 100% 54/54 [00:43<00:00,  1.24it/s]\n",
      "Evaluating: 100% 3/3 [00:01<00:00,  2.25it/s]\n",
      "Training Loss: 0.3205\n",
      "Validation Loss: 0.3982\n",
      "Testing multiple thresholds on validation set\n",
      "Best threshold: 0.35\n",
      "Evaluating trained model on test set\n",
      "Test Accuracy with best threshold 0.35: 0.9744\n"
     ]
    }
   ],
   "source": [
    "!python \"fmn.py\""
   ]
  },
  {
   "cell_type": "code",
   "execution_count": null,
   "metadata": {},
   "outputs": [],
   "source": [
    "!python \"deep_fool.py\""
   ]
  }
 ],
 "metadata": {
  "accelerator": "GPU",
  "colab": {
   "gpuType": "L4",
   "machine_shape": "hm",
   "provenance": []
  },
  "kernelspec": {
   "display_name": "Python 3",
   "name": "python3"
  },
  "language_info": {
   "name": "python"
  }
 },
 "nbformat": 4,
 "nbformat_minor": 0
}
